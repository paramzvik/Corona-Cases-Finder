{
 "cells": [
  {
   "cell_type": "markdown",
   "metadata": {},
   "source": [
    "#### In this challenge you have to buiild a linear regression model using scikit learn package\n",
    "- Follow the instructions provided for each cell and code accordingly\n",
    "- To run each cell select the cell and press \"Shift + enter\"\n",
    "- The necessary packages has been imported for you"
   ]
  },
  {
   "cell_type": "code",
   "execution_count": 1,
   "metadata": {
    "colab": {
     "autoexec": {
      "startup": false,
      "wait_interval": 0
     }
    },
    "colab_type": "code",
    "id": "GhNVQ7DLJ4O1"
   },
   "outputs": [],
   "source": [
    "import pandas as pd\n",
    "import numpy as np\n",
    "from sklearn.linear_model import LinearRegression\n",
    "from sklearn.model_selection import train_test_split"
   ]
  },
  {
   "cell_type": "markdown",
   "metadata": {
    "colab_type": "text",
    "id": "KJoRAVbc_X1e"
   },
   "source": [
    "### About the dataset\n",
    "- The dataset is provided in the file **tipdata.csv**\n",
    "- The first few rows of the dataset looks as shown below\n",
    "<img src = \"initial_df.png\">\n",
    "\n",
    "### Attributes:  \n",
    "- 'size' - refers to the table size(number of seats per table)  \n",
    "-  rest of the variables are self explanatory  \n",
    "### Target variable:  \n",
    "- tip: tips in dollers provided by the customer. Convert categorcal variable sex and smoker to   binary values i.e male as 0, female as 1 nonsmoker as 0 and smoker as 1    \n",
    "\n",
    " \n"
   ]
  },
  {
   "cell_type": "markdown",
   "metadata": {},
   "source": [
    "Define a function create_df()\n",
    "   - parameters: file_name\n",
    "   - returns: pandas dataframe\n",
    "The function has to:\n",
    "- read the file and convert it into pandas dataframe\n",
    "- convert categorcal variable sex and smoker to binary values i.e male as 0, female as 1, nonsmoker as 0 and smoker as 1\n",
    "- Perform one hot encoding for day and time variables (hint: use pandas get_dummies() method)   "
   ]
  },
  {
   "cell_type": "code",
   "execution_count": 43,
   "metadata": {},
   "outputs": [],
   "source": [
    "def create_df(file_name):\n",
    "    ###Start code here\n",
    "    data = pd.read_csv(file_name)\n",
    "    data.replace({ 'sex': {'Male':0 , 'Female':1} , 'smoker' : {'No': 0 , 'Yes': 1}} ,inplace=True)\n",
    "    days = pd.get_dummies(data['day'],drop_first=True)\n",
    "    data = pd.concat([data,days],axis=1)\n",
    "    times = pd.get_dummies(data['time'],drop_first=True)\n",
    "    data = pd.concat([data,times],axis=1)\n",
    "    data.drop(['day','time'],inplace=True,axis=1)\n",
    "    return(data)\n",
    "    "
   ]
  },
  {
   "cell_type": "markdown",
   "metadata": {},
   "source": [
    "- The below cell creates the dataframe using the method you define above  \n",
    "Expexted output when you run the below cell:\n",
    "    <img src = \"df.png\">"
   ]
  },
  {
   "cell_type": "code",
   "execution_count": 44,
   "metadata": {
    "colab": {
     "autoexec": {
      "startup": false,
      "wait_interval": 0
     }
    },
    "colab_type": "code",
    "id": "u3ZAmAx3KTHu"
   },
   "outputs": [
    {
     "data": {
      "text/html": [
       "<div>\n",
       "<style scoped>\n",
       "    .dataframe tbody tr th:only-of-type {\n",
       "        vertical-align: middle;\n",
       "    }\n",
       "\n",
       "    .dataframe tbody tr th {\n",
       "        vertical-align: top;\n",
       "    }\n",
       "\n",
       "    .dataframe thead th {\n",
       "        text-align: right;\n",
       "    }\n",
       "</style>\n",
       "<table border=\"1\" class=\"dataframe\">\n",
       "  <thead>\n",
       "    <tr style=\"text-align: right;\">\n",
       "      <th></th>\n",
       "      <th>total_bill</th>\n",
       "      <th>tip</th>\n",
       "      <th>sex</th>\n",
       "      <th>smoker</th>\n",
       "      <th>size</th>\n",
       "      <th>Sat</th>\n",
       "      <th>Sun</th>\n",
       "      <th>Thur</th>\n",
       "      <th>Lunch</th>\n",
       "    </tr>\n",
       "  </thead>\n",
       "  <tbody>\n",
       "    <tr>\n",
       "      <th>0</th>\n",
       "      <td>16.99</td>\n",
       "      <td>1.01</td>\n",
       "      <td>1</td>\n",
       "      <td>0</td>\n",
       "      <td>2</td>\n",
       "      <td>0</td>\n",
       "      <td>1</td>\n",
       "      <td>0</td>\n",
       "      <td>0</td>\n",
       "    </tr>\n",
       "    <tr>\n",
       "      <th>1</th>\n",
       "      <td>10.34</td>\n",
       "      <td>1.66</td>\n",
       "      <td>0</td>\n",
       "      <td>0</td>\n",
       "      <td>3</td>\n",
       "      <td>0</td>\n",
       "      <td>1</td>\n",
       "      <td>0</td>\n",
       "      <td>0</td>\n",
       "    </tr>\n",
       "    <tr>\n",
       "      <th>2</th>\n",
       "      <td>21.01</td>\n",
       "      <td>3.50</td>\n",
       "      <td>0</td>\n",
       "      <td>0</td>\n",
       "      <td>3</td>\n",
       "      <td>0</td>\n",
       "      <td>1</td>\n",
       "      <td>0</td>\n",
       "      <td>0</td>\n",
       "    </tr>\n",
       "    <tr>\n",
       "      <th>3</th>\n",
       "      <td>23.68</td>\n",
       "      <td>3.31</td>\n",
       "      <td>0</td>\n",
       "      <td>0</td>\n",
       "      <td>2</td>\n",
       "      <td>0</td>\n",
       "      <td>1</td>\n",
       "      <td>0</td>\n",
       "      <td>0</td>\n",
       "    </tr>\n",
       "    <tr>\n",
       "      <th>4</th>\n",
       "      <td>24.59</td>\n",
       "      <td>3.61</td>\n",
       "      <td>1</td>\n",
       "      <td>0</td>\n",
       "      <td>4</td>\n",
       "      <td>0</td>\n",
       "      <td>1</td>\n",
       "      <td>0</td>\n",
       "      <td>0</td>\n",
       "    </tr>\n",
       "  </tbody>\n",
       "</table>\n",
       "</div>"
      ],
      "text/plain": [
       "   total_bill   tip  sex  smoker  size  Sat  Sun  Thur  Lunch\n",
       "0       16.99  1.01    1       0     2    0    1     0      0\n",
       "1       10.34  1.66    0       0     3    0    1     0      0\n",
       "2       21.01  3.50    0       0     3    0    1     0      0\n",
       "3       23.68  3.31    0       0     2    0    1     0      0\n",
       "4       24.59  3.61    1       0     4    0    1     0      0"
      ]
     },
     "execution_count": 44,
     "metadata": {},
     "output_type": "execute_result"
    }
   ],
   "source": [
    "df = create_df(\"tipdata.csv\")\n",
    "df.head()"
   ]
  },
  {
   "cell_type": "markdown",
   "metadata": {},
   "source": [
    "- Extraxt feature values ('total_bill','sex',\"smoker\",\"size\",\"Sat\", \"Sun\", \"Thur\", \"Lunch\") into variable **X**\n",
    "- Extraxt target values ('tip') into variable **Y**"
   ]
  },
  {
   "cell_type": "code",
   "execution_count": 58,
   "metadata": {
    "colab": {
     "autoexec": {
      "startup": false,
      "wait_interval": 0
     }
    },
    "colab_type": "code",
    "id": "x3bMnPjsjXUo"
   },
   "outputs": [],
   "source": [
    "###Start code here\n",
    "X = df.iloc[:,[0,2,3,4,5,6,7,8]]\n",
    "Y = df.loc[:, \"tip\"]\n",
    "###End code"
   ]
  },
  {
   "cell_type": "markdown",
   "metadata": {},
   "source": [
    "- using **sklearn.model_selection.train_test_split** split the X and Y into train and test set such that 75 percent of the data allocated to training set.  \n",
    "- **Set the random state as 25**"
   ]
  },
  {
   "cell_type": "code",
   "execution_count": 59,
   "metadata": {
    "colab": {
     "autoexec": {
      "startup": false,
      "wait_interval": 0
     }
    },
    "colab_type": "code",
    "id": "qJ6MaVfmiv4P"
   },
   "outputs": [],
   "source": [
    "###Start code here\n",
    "X_train, X_test , y_train , y_test = train_test_split(X, Y, test_size=0.25, random_state=25)\n",
    "###End code"
   ]
  },
  {
   "cell_type": "markdown",
   "metadata": {},
   "source": [
    "define a method train_model()\n",
    "   - parameters\n",
    "     - X: array of input features\n",
    "     - Y: array of target values\n",
    "  - return : sklearn linearRegression model\n",
    "Use scikit learn's linearRegression to train the model with input X and Y "
   ]
  },
  {
   "cell_type": "code",
   "execution_count": 60,
   "metadata": {
    "colab": {
     "autoexec": {
      "startup": false,
      "wait_interval": 0
     },
     "base_uri": "https://localhost:8080/",
     "height": 52
    },
    "colab_type": "code",
    "executionInfo": {
     "elapsed": 1315,
     "status": "ok",
     "timestamp": 1524475917926,
     "user": {
      "displayName": "shreyas r bhat",
      "photoUrl": "https://lh3.googleusercontent.com/a/default-user=s128",
      "userId": "100759561434017988779"
     },
     "user_tz": -330
    },
    "id": "9vJZWVFXjRQ_",
    "outputId": "b1fef9d8-7b59-4fab-cc99-867a3a9d43ef"
   },
   "outputs": [],
   "source": [
    "def train_model(X, y):\n",
    "  ####Start code here\n",
    "    regressor = LinearRegression()\n",
    "    return(regressor.fit(X, y))\n"
   ]
  },
  {
   "cell_type": "markdown",
   "metadata": {},
   "source": [
    "- The code in the below cell returns the predicted tip values using all the available features\n",
    "- The expected output when you run the below cell: \n",
    " [2.73149571 3.18465921 3.52553842 5.42292079 2.34495412 2.32864233\n",
    "  3.73142509 3.45167833 3.21491008 3.47580459]"
   ]
  },
  {
   "cell_type": "code",
   "execution_count": 61,
   "metadata": {},
   "outputs": [
    {
     "name": "stdout",
     "output_type": "stream",
     "text": [
      "[2.73149571 3.18465921 3.52553842 5.42292079 2.34495412 2.32864233\n",
      " 3.73142509 3.45167833 3.21491008 3.47580459]\n"
     ]
    }
   ],
   "source": [
    "model = train_model(X_train, y_train)\n",
    "pred = model.predict(X_test)\n",
    "print(pred[0:10])"
   ]
  },
  {
   "cell_type": "markdown",
   "metadata": {},
   "source": [
    "Define a method rmse()\n",
    " - parameters:\n",
    "  - actual - array of actual values\n",
    "  - pred - array of predicted values\n",
    "The function has to calculate root mean square error between actual abd predicted values  \n",
    "Formula to compute RMSE: $\\sqrt{\\frac{\\sum_{i = 0}^{i = n}(actual_i - pred_i)^2}{n}}$"
   ]
  },
  {
   "cell_type": "code",
   "execution_count": 66,
   "metadata": {
    "colab": {
     "autoexec": {
      "startup": false,
      "wait_interval": 0
     }
    },
    "colab_type": "code",
    "id": "xyVbOqVhq66P"
   },
   "outputs": [],
   "source": [
    "def rmse(actual, pred):\n",
    "    ###Start code here\n",
    "    value = np.sqrt(np.mean((actual-pred)**2))\n",
    "    return(round(value, 5))"
   ]
  },
  {
   "cell_type": "markdown",
   "metadata": {},
   "source": [
    "The below cell calculates the rmse value between the actual and predicted target data using the function you defined above\n",
    "The expected output when you run the below cell: RMSE:  1.07389"
   ]
  },
  {
   "cell_type": "code",
   "execution_count": 67,
   "metadata": {
    "colab": {
     "autoexec": {
      "startup": false,
      "wait_interval": 0
     },
     "base_uri": "https://localhost:8080/",
     "height": 34
    },
    "colab_type": "code",
    "executionInfo": {
     "elapsed": 1033,
     "status": "ok",
     "timestamp": 1524475921268,
     "user": {
      "displayName": "shreyas r bhat",
      "photoUrl": "https://lh3.googleusercontent.com/a/default-user=s128",
      "userId": "100759561434017988779"
     },
     "user_tz": -330
    },
    "id": "wFE3zXwfAk1A",
    "outputId": "ce606811-c3ec-4b69-a0dc-c398d1b04b67"
   },
   "outputs": [
    {
     "name": "stdout",
     "output_type": "stream",
     "text": [
      "RMSE:  1.07389\n"
     ]
    }
   ],
   "source": [
    "error = rmse(y_test, pred)\n",
    "print(\"RMSE: \", error)"
   ]
  },
  {
   "cell_type": "code",
   "execution_count": null,
   "metadata": {},
   "outputs": [],
   "source": []
  }
 ],
 "metadata": {
  "colab": {
   "collapsed_sections": [],
   "default_view": {},
   "name": "tip.ipynb",
   "provenance": [],
   "version": "0.3.2",
   "views": {}
  },
  "kernelspec": {
   "display_name": "Python 3",
   "language": "python",
   "name": "python3"
  },
  "language_info": {
   "codemirror_mode": {
    "name": "ipython",
    "version": 3
   },
   "file_extension": ".py",
   "mimetype": "text/x-python",
   "name": "python",
   "nbconvert_exporter": "python",
   "pygments_lexer": "ipython3",
   "version": "3.7.4"
  }
 },
 "nbformat": 4,
 "nbformat_minor": 1
}
